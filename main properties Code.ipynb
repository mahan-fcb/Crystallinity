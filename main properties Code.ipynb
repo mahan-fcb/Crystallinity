{
 "cells": [
  {
   "cell_type": "code",
   "execution_count": 30,
   "metadata": {},
   "outputs": [],
   "source": [
    "import numpy as np\n",
    "import pandas as pd\n",
    "#!pip install modlamp\n",
    "import modlamp as mp\n",
    "from modlamp.descriptors import GlobalDescriptor"
   ]
  },
  {
   "cell_type": "code",
   "execution_count": 31,
   "metadata": {},
   "outputs": [],
   "source": [
    "dl = pd.read_csv('tr.csv')\n",
    "#Seq_list = df['Seq'].to_list()\n",
    "#for i in range(len(df)):\n",
    " #   df.at[i, 'Seq'] =  [_ for _ in df.loc[i,'Seq']]\n",
    "#seq_list = df['Seq'].to_list()"
   ]
  },
  {
   "cell_type": "code",
   "execution_count": 18,
   "metadata": {},
   "outputs": [],
   "source": [
    "df = df.reset_index(drop=True)"
   ]
  },
  {
   "cell_type": "code",
   "execution_count": 32,
   "metadata": {},
   "outputs": [],
   "source": [
    "a = []\n",
    "for i in range(len(dl)):\n",
    "    a.append(dl['Seq'][i])"
   ]
  },
  {
   "cell_type": "code",
   "execution_count": 146,
   "metadata": {},
   "outputs": [],
   "source": [
    "b = [82,156,1491,1494,1496,1498,2094,2095,2108,2113,2248,2267,2280,2950,2957,3689,7627,8644,8677,9020,9245,9254,9263,9270,9690,9939]"
   ]
  },
  {
   "cell_type": "code",
   "execution_count": 33,
   "metadata": {},
   "outputs": [],
   "source": [
    "df= pd.DataFrame()"
   ]
  },
  {
   "cell_type": "code",
   "execution_count": 28,
   "metadata": {},
   "outputs": [],
   "source": [
    "df = dl.drop(dl.index[[788,789]])"
   ]
  },
  {
   "cell_type": "code",
   "execution_count": 34,
   "metadata": {},
   "outputs": [],
   "source": [
    "for i in range(len(a)):\n",
    "    for j in range(len(a[i])):\n",
    "        if a[i][j]=='X':\n",
    "            #del a[i]\n",
    "            #b.append(i)\n",
    "            print('t=',i)\n",
    "        #d.append(b)"
   ]
  },
  {
   "cell_type": "code",
   "execution_count": 35,
   "metadata": {},
   "outputs": [],
   "source": [
    "feature = GlobalDescriptor(a)\n",
    "\n",
    "feature.calculate_all(amide=False)\n",
    "feature.featurenames\n",
    "feature.descriptor\n",
    "\n",
    "from itertools import chain \n",
    "feature.hydrophobic_ratio()\n",
    "HyRa = feature.descriptor\n",
    "hydro = list(chain.from_iterable(HyRa)) \n",
    "\n",
    "feature.boman_index()\n",
    "bom= feature.descriptor\n",
    "boman = list(chain.from_iterable(bom))\n",
    "\n",
    "feature.aliphatic_index()\n",
    "Alipha= feature.descriptor\n",
    "Aliphatic = list(chain.from_iterable(Alipha))\n",
    "\n",
    "feature.aromaticity()\n",
    "aro= feature.descriptor\n",
    "aromaticity = list(chain.from_iterable(aro))\n",
    "\n",
    "feature.instability_index()\n",
    "inst= feature.descriptor\n",
    "instability = list(chain.from_iterable(inst))\n",
    "\n",
    "feature.isoelectric_point()\n",
    "iso= feature.descriptor\n",
    "isoel = list(chain.from_iterable(iso))\n",
    "\n",
    "feature.charge_density(ph=6, amide=True)\n",
    "ChDe= feature.descriptor\n",
    "Ch_De = list(chain.from_iterable(ChDe))\n",
    "\n",
    "feature.calculate_charge(ph=7.4, amide=True)\n",
    "Ch= feature.descriptor\n",
    "Charge = list(chain.from_iterable(Ch))\n",
    "\n",
    "feature.calculate_MW(amide=True)\n",
    "Mo= feature.descriptor\n",
    "MW = list(chain.from_iterable(Mo))\n",
    "\n",
    "feature.length()\n",
    "le= feature.descriptor\n",
    "Len= list(chain.from_iterable(le))\n",
    "\n",
    "#print(hydro, boman)\n",
    "#print(hydro, boman)\n",
    "#k=[[1,2]]\n",
    "df['Hyd_Ra'] = hydro \n",
    "df['Boman_ind'] = boman\n",
    "df['Len']= Len\n",
    "df['MW'] = MW\n",
    "df['Charge']= Charge\n",
    "df['Charge_Density']= Ch_De\n",
    "df['isoelectric'] = isoel\n",
    "df['instability'] = instability\n",
    "df['aromaticity'] = aromaticity\n",
    "df['aliphatic'] = Aliphatic\n",
    "#print(dl)\n",
    "\n",
    "#print(hd)\n",
    "\n",
    "#d_comb1= dk.join(ds, lsuffix=\"_left\")        \n",
    "#d_comb2 = dl.join(d_comb1, lsuffix=\"_left\")\n",
    "#print(d_comb2)"
   ]
  },
  {
   "cell_type": "code",
   "execution_count": 11,
   "metadata": {},
   "outputs": [
    {
     "name": "stdout",
     "output_type": "stream",
     "text": [
      "<class 'pandas.core.frame.DataFrame'>\n",
      "RangeIndex: 237 entries, 0 to 236\n",
      "Data columns (total 10 columns):\n",
      "Hyd_Ra            237 non-null float64\n",
      "Boman_ind         237 non-null float64\n",
      "Len               237 non-null float64\n",
      "MW                237 non-null float64\n",
      "Charge            237 non-null float64\n",
      "Charge_Density    237 non-null float64\n",
      "isoelectric       237 non-null float64\n",
      "instability       237 non-null float64\n",
      "aromaticity       237 non-null float64\n",
      "aliphatic         237 non-null float64\n",
      "dtypes: float64(10)\n",
      "memory usage: 18.6 KB\n"
     ]
    }
   ],
   "source": [
    "df.info()"
   ]
  },
  {
   "cell_type": "code",
   "execution_count": 36,
   "metadata": {},
   "outputs": [],
   "source": [
    "df.to_csv('main_tr.csv', index = False) "
   ]
  },
  {
   "cell_type": "code",
   "execution_count": 8,
   "metadata": {},
   "outputs": [
    {
     "name": "stdout",
     "output_type": "stream",
     "text": [
      "<class 'pandas.core.frame.DataFrame'>\n",
      "RangeIndex: 91795 entries, 0 to 91794\n",
      "Data columns (total 30 columns):\n",
      " #   Column          Non-Null Count  Dtype  \n",
      "---  ------          --------------  -----  \n",
      " 0   Hyd_Ra          91795 non-null  float64\n",
      " 1   Boman_ind       91795 non-null  float64\n",
      " 2   Len             91795 non-null  float64\n",
      " 3   MW              91795 non-null  float64\n",
      " 4   Charge          91795 non-null  float64\n",
      " 5   Charge_Density  91795 non-null  float64\n",
      " 6   isoelectric     91795 non-null  float64\n",
      " 7   instability     91795 non-null  float64\n",
      " 8   aromaticity     91795 non-null  float64\n",
      " 9   aliphatic       91795 non-null  float64\n",
      " 10  A               91795 non-null  float64\n",
      " 11  C               91795 non-null  float64\n",
      " 12  D               91795 non-null  float64\n",
      " 13  E               91795 non-null  float64\n",
      " 14  F               91795 non-null  float64\n",
      " 15  G               91795 non-null  float64\n",
      " 16  H               91795 non-null  float64\n",
      " 17  I               91795 non-null  float64\n",
      " 18  K               91795 non-null  float64\n",
      " 19  L               91795 non-null  float64\n",
      " 20  M               91795 non-null  float64\n",
      " 21  N               91795 non-null  float64\n",
      " 22  P               91795 non-null  float64\n",
      " 23  Q               91795 non-null  float64\n",
      " 24  R               91795 non-null  float64\n",
      " 25  S               91795 non-null  float64\n",
      " 26  T               91795 non-null  float64\n",
      " 27  V               91795 non-null  float64\n",
      " 28  W               91795 non-null  float64\n",
      " 29  Y               91795 non-null  float64\n",
      "dtypes: float64(30)\n",
      "memory usage: 21.0 MB\n"
     ]
    }
   ],
   "source": [
    "df.info()"
   ]
  },
  {
   "cell_type": "code",
   "execution_count": null,
   "metadata": {},
   "outputs": [],
   "source": []
  }
 ],
 "metadata": {
  "kernelspec": {
   "display_name": "Python 3",
   "language": "python",
   "name": "python3"
  },
  "language_info": {
   "codemirror_mode": {
    "name": "ipython",
    "version": 3
   },
   "file_extension": ".py",
   "mimetype": "text/x-python",
   "name": "python",
   "nbconvert_exporter": "python",
   "pygments_lexer": "ipython3",
   "version": "3.7.4"
  }
 },
 "nbformat": 4,
 "nbformat_minor": 4
}
